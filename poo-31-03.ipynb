{
 "cells": [
  {
   "cell_type": "markdown",
   "metadata": {},
   "source": [
    "1 - Escreva uma classe Circulo que tenha o atributo raio e os métodos calc_area que calcula a área do círculo (pi x raio²) e calc_perímetro que calcula o perímetro do círculo (2 x pi x raio)"
   ]
  },
  {
   "cell_type": "code",
   "execution_count": 1,
   "metadata": {},
   "outputs": [],
   "source": [
    "class Circulo:\n",
    "    def __init__(self, raio=0):\n",
    "        self.raio = raio"
   ]
  },
  {
   "cell_type": "code",
   "execution_count": 2,
   "metadata": {},
   "outputs": [],
   "source": [
    "c = Circulo(10)"
   ]
  },
  {
   "cell_type": "code",
   "execution_count": 3,
   "metadata": {},
   "outputs": [
    {
     "data": {
      "text/plain": [
       "10"
      ]
     },
     "execution_count": 3,
     "metadata": {},
     "output_type": "execute_result"
    }
   ],
   "source": [
    "c.raio"
   ]
  },
  {
   "cell_type": "code",
   "execution_count": 4,
   "metadata": {},
   "outputs": [],
   "source": [
    "class Circulo:\n",
    "    def __init__(self, raio=0):\n",
    "        self.raio = raio\n",
    "        \n",
    "    def get_area(self):\n",
    "        return 3.14 * self.raio**2"
   ]
  },
  {
   "cell_type": "code",
   "execution_count": 5,
   "metadata": {},
   "outputs": [
    {
     "data": {
      "text/plain": [
       "314.0"
      ]
     },
     "execution_count": 5,
     "metadata": {},
     "output_type": "execute_result"
    }
   ],
   "source": [
    "c = Circulo(10)\n",
    "c.get_area()"
   ]
  },
  {
   "cell_type": "code",
   "execution_count": 6,
   "metadata": {},
   "outputs": [],
   "source": [
    "import math\n",
    "\n",
    "class Circulo:\n",
    "    def __init__(self, raio=0):\n",
    "        self.raio = raio\n",
    "        \n",
    "    def get_area(self):\n",
    "        return math.pi * self.raio**2"
   ]
  },
  {
   "cell_type": "code",
   "execution_count": 7,
   "metadata": {},
   "outputs": [
    {
     "data": {
      "text/plain": [
       "3.141592653589793"
      ]
     },
     "execution_count": 7,
     "metadata": {},
     "output_type": "execute_result"
    }
   ],
   "source": [
    "math.pi"
   ]
  },
  {
   "cell_type": "code",
   "execution_count": 8,
   "metadata": {},
   "outputs": [
    {
     "data": {
      "text/plain": [
       "314.1592653589793"
      ]
     },
     "execution_count": 8,
     "metadata": {},
     "output_type": "execute_result"
    }
   ],
   "source": [
    "c = Circulo(10)\n",
    "c.get_area()"
   ]
  },
  {
   "cell_type": "code",
   "execution_count": 11,
   "metadata": {},
   "outputs": [],
   "source": [
    "class Circulo:\n",
    "    PI = 3.14159\n",
    "    \n",
    "    def __init__(self, raio=0):\n",
    "        self.raio = raio\n",
    "        \n",
    "    def get_area(self):\n",
    "        return self.PI * self.raio**2"
   ]
  },
  {
   "cell_type": "code",
   "execution_count": 12,
   "metadata": {},
   "outputs": [
    {
     "data": {
      "text/plain": [
       "314.159"
      ]
     },
     "execution_count": 12,
     "metadata": {},
     "output_type": "execute_result"
    }
   ],
   "source": [
    "c = Circulo(10)\n",
    "c.get_area()"
   ]
  },
  {
   "cell_type": "code",
   "execution_count": 13,
   "metadata": {},
   "outputs": [],
   "source": [
    "import math\n",
    "\n",
    "class Circulo:\n",
    "    def __init__(self, raio=0):\n",
    "        self.raio = raio\n",
    "        \n",
    "    def get_area(self):\n",
    "        return math.pi * self.raio**2\n",
    "    \n",
    "    def get_perimetro(self):\n",
    "        return 2 * math.pi * self.raio"
   ]
  },
  {
   "cell_type": "code",
   "execution_count": 14,
   "metadata": {},
   "outputs": [
    {
     "data": {
      "text/plain": [
       "62.83185307179586"
      ]
     },
     "execution_count": 14,
     "metadata": {},
     "output_type": "execute_result"
    }
   ],
   "source": [
    "c = Circulo(10)\n",
    "c.get_perimetro()"
   ]
  },
  {
   "cell_type": "code",
   "execution_count": 15,
   "metadata": {},
   "outputs": [],
   "source": [
    "c = Circulo(10)\n",
    "c2 = Circulo(12)"
   ]
  },
  {
   "cell_type": "code",
   "execution_count": 16,
   "metadata": {},
   "outputs": [
    {
     "name": "stdout",
     "output_type": "stream",
     "text": [
      "Área de c2: 452.3893421169302\n"
     ]
    }
   ],
   "source": [
    "print(\"Área de c2: \" + str(c2.get_area()))"
   ]
  },
  {
   "cell_type": "code",
   "execution_count": 17,
   "metadata": {},
   "outputs": [
    {
     "name": "stdout",
     "output_type": "stream",
     "text": [
      "Área de c2: 452.3893421169302\n"
     ]
    }
   ],
   "source": [
    "print(f\"Área de c2: {c2.get_area()}\")"
   ]
  },
  {
   "cell_type": "markdown",
   "metadata": {},
   "source": [
    "2) Escreva uma classe Disciplina que contenha nome, carga horária total, carga horária teórica e carga horária prática. Escreva uma classe Estudante que contenha nome, número de matrícula, curso e disciplinas (disciplinas que o estudante está cursando). Implemente métodos que imprimam as informações dos objetos."
   ]
  },
  {
   "cell_type": "code",
   "execution_count": 26,
   "metadata": {},
   "outputs": [],
   "source": [
    "class Disciplina:\n",
    "    def __init__(self, nome):\n",
    "        self.nome = nome\n",
    "        self.carga_horaria_teorica = 0\n",
    "        self.carga_horaria_pratica = 0\n",
    "        self.carga_horaria_total = 0\n",
    "    \n",
    "    def imprime(self):\n",
    "        print(f'{self.nome} ({self.carga_horaria_teorica},{self.carga_horaria_pratica},{self.carga_horaria_total})')"
   ]
  },
  {
   "cell_type": "code",
   "execution_count": 27,
   "metadata": {},
   "outputs": [],
   "source": [
    "d = Disciplina('Linguagem de Programação')"
   ]
  },
  {
   "cell_type": "code",
   "execution_count": 28,
   "metadata": {},
   "outputs": [],
   "source": [
    "d.carga_horaria_teorica = 40"
   ]
  },
  {
   "cell_type": "code",
   "execution_count": 29,
   "metadata": {},
   "outputs": [],
   "source": [
    "d.carga_horaria_pratica = 40"
   ]
  },
  {
   "cell_type": "code",
   "execution_count": 30,
   "metadata": {},
   "outputs": [],
   "source": [
    "d.carga_horaria_total = 80"
   ]
  },
  {
   "cell_type": "code",
   "execution_count": 31,
   "metadata": {},
   "outputs": [
    {
     "name": "stdout",
     "output_type": "stream",
     "text": [
      "Linguagem de Programação (40,40,80)\n"
     ]
    }
   ],
   "source": [
    "d.imprime()"
   ]
  },
  {
   "cell_type": "code",
   "execution_count": 32,
   "metadata": {},
   "outputs": [],
   "source": [
    "d2 = Disciplina('Banco de Dados')\n",
    "d2.carga_horaria_teorica = 40\n",
    "d2.carga_horaria_pratica = 40\n",
    "d2.carga_horaria_total = 80"
   ]
  },
  {
   "cell_type": "code",
   "execution_count": 33,
   "metadata": {},
   "outputs": [
    {
     "name": "stdout",
     "output_type": "stream",
     "text": [
      "Banco de Dados (40,40,80)\n"
     ]
    }
   ],
   "source": [
    "d2.imprime()"
   ]
  },
  {
   "cell_type": "code",
   "execution_count": 35,
   "metadata": {},
   "outputs": [
    {
     "name": "stdout",
     "output_type": "stream",
     "text": [
      "<__main__.Disciplina object at 0x7ff274668c10>\n"
     ]
    }
   ],
   "source": [
    "print(d)"
   ]
  },
  {
   "cell_type": "code",
   "execution_count": 45,
   "metadata": {},
   "outputs": [],
   "source": [
    "class Estudante:\n",
    "    def __init__(self, nome, mat=None, curso='ADS', disciplinas=None):\n",
    "        self.nome = nome\n",
    "        self.matricula = mat\n",
    "        self.curso = curso\n",
    "        self.disciplinas = disciplinas\n",
    "    \n",
    "    def imprime(self):\n",
    "        print(f'{self.nome} - {self.matricula} ({self.curso})')\n",
    "        for d in self.disciplinas:\n",
    "            d.imprime()"
   ]
  },
  {
   "cell_type": "code",
   "execution_count": 46,
   "metadata": {},
   "outputs": [],
   "source": [
    "e = Estudante('Luciano', 'nromatricula', 'ADS', [d, d2])"
   ]
  },
  {
   "cell_type": "code",
   "execution_count": 47,
   "metadata": {},
   "outputs": [
    {
     "data": {
      "text/plain": [
       "[<__main__.Disciplina at 0x7ff274668c10>,\n",
       " <__main__.Disciplina at 0x7ff2745925b0>]"
      ]
     },
     "execution_count": 47,
     "metadata": {},
     "output_type": "execute_result"
    }
   ],
   "source": [
    "e.disciplinas"
   ]
  },
  {
   "cell_type": "code",
   "execution_count": 48,
   "metadata": {},
   "outputs": [
    {
     "name": "stdout",
     "output_type": "stream",
     "text": [
      "Luciano - nromatricula (ADS)\n",
      "Linguagem de Programação (40,40,80)\n",
      "Banco de Dados (40,40,80)\n"
     ]
    }
   ],
   "source": [
    "e.imprime()"
   ]
  },
  {
   "cell_type": "code",
   "execution_count": 62,
   "metadata": {},
   "outputs": [
    {
     "data": {
      "text/plain": [
       "True"
      ]
     },
     "execution_count": 62,
     "metadata": {},
     "output_type": "execute_result"
    }
   ],
   "source": [
    "isinstance(e, object)"
   ]
  },
  {
   "cell_type": "code",
   "execution_count": 63,
   "metadata": {},
   "outputs": [
    {
     "data": {
      "text/plain": [
       "['__class__',\n",
       " '__delattr__',\n",
       " '__dir__',\n",
       " '__doc__',\n",
       " '__eq__',\n",
       " '__format__',\n",
       " '__ge__',\n",
       " '__getattribute__',\n",
       " '__gt__',\n",
       " '__hash__',\n",
       " '__init__',\n",
       " '__init_subclass__',\n",
       " '__le__',\n",
       " '__lt__',\n",
       " '__ne__',\n",
       " '__new__',\n",
       " '__reduce__',\n",
       " '__reduce_ex__',\n",
       " '__repr__',\n",
       " '__setattr__',\n",
       " '__sizeof__',\n",
       " '__str__',\n",
       " '__subclasshook__']"
      ]
     },
     "execution_count": 63,
     "metadata": {},
     "output_type": "execute_result"
    }
   ],
   "source": [
    "dir(object)"
   ]
  },
  {
   "cell_type": "code",
   "execution_count": 66,
   "metadata": {},
   "outputs": [
    {
     "name": "stdout",
     "output_type": "stream",
     "text": [
      "<__main__.Estudante object at 0x7ff274592970>\n"
     ]
    }
   ],
   "source": [
    "print(e.__str__())"
   ]
  },
  {
   "cell_type": "code",
   "execution_count": 85,
   "metadata": {},
   "outputs": [],
   "source": [
    "class Disciplina:\n",
    "    def __init__(self, nome):\n",
    "        self.nome = nome\n",
    "        self.carga_horaria_teorica = 0\n",
    "        self.carga_horaria_pratica = 0\n",
    "        self.carga_horaria_total = 0\n",
    "    \n",
    "    #method override\n",
    "    #sobrescrita de método (reescrever um método)\n",
    "    def __str__(self):\n",
    "        return f'{self.nome} ({self.carga_horaria_teorica},{self.carga_horaria_pratica},{self.carga_horaria_total})'\n",
    "        \n",
    "\n",
    "class Estudante:\n",
    "    def __init__(self, nome, mat=None, curso='ADS', disciplinas=None):\n",
    "        self.nome = nome\n",
    "        self.matricula = mat\n",
    "        self.curso = curso\n",
    "        self.disciplinas = disciplinas\n",
    "    \n",
    "    # sobrescrita de método\n",
    "    def __str__(self):\n",
    "        return f'{self.nome} - {self.matricula} ({self.curso})'\n",
    "    # sobrescrita de método\n",
    "    def __repr__(self):\n",
    "        return f'REPR {self.nome} - {self.matricula} ({self.curso})'"
   ]
  },
  {
   "cell_type": "code",
   "execution_count": 86,
   "metadata": {},
   "outputs": [],
   "source": [
    "e = Estudante('Juliano')"
   ]
  },
  {
   "cell_type": "code",
   "execution_count": 87,
   "metadata": {},
   "outputs": [
    {
     "name": "stdout",
     "output_type": "stream",
     "text": [
      "Juliano - None (ADS)\n"
     ]
    }
   ],
   "source": [
    "print(e)"
   ]
  },
  {
   "cell_type": "code",
   "execution_count": 88,
   "metadata": {},
   "outputs": [
    {
     "data": {
      "text/plain": [
       "REPR Juliano - None (ADS)"
      ]
     },
     "execution_count": 88,
     "metadata": {},
     "output_type": "execute_result"
    }
   ],
   "source": [
    "e"
   ]
  },
  {
   "cell_type": "code",
   "execution_count": 93,
   "metadata": {},
   "outputs": [
    {
     "data": {
      "text/plain": [
       "'Sistema Operacionais (0,0,0)'"
      ]
     },
     "execution_count": 93,
     "metadata": {},
     "output_type": "execute_result"
    }
   ],
   "source": [
    "d = Disciplina('Sistema Operacionais')\n",
    "d.__str__()"
   ]
  },
  {
   "cell_type": "code",
   "execution_count": 90,
   "metadata": {},
   "outputs": [
    {
     "name": "stdout",
     "output_type": "stream",
     "text": [
      "Sistema Operacionais (0,0,0)\n"
     ]
    }
   ],
   "source": [
    "print(d)"
   ]
  },
  {
   "cell_type": "code",
   "execution_count": 94,
   "metadata": {},
   "outputs": [],
   "source": [
    "def imprime(*args):\n",
    "    for arg in args:\n",
    "        print(arg.__str__())"
   ]
  },
  {
   "cell_type": "code",
   "execution_count": 95,
   "metadata": {},
   "outputs": [
    {
     "name": "stdout",
     "output_type": "stream",
     "text": [
      "Sistema Operacionais (0,0,0)\n",
      "Juliano - None (ADS)\n"
     ]
    }
   ],
   "source": [
    "imprime(d,e)"
   ]
  },
  {
   "cell_type": "code",
   "execution_count": null,
   "metadata": {},
   "outputs": [],
   "source": []
  }
 ],
 "metadata": {
  "kernelspec": {
   "display_name": "Python 3",
   "language": "python",
   "name": "python3"
  },
  "language_info": {
   "codemirror_mode": {
    "name": "ipython",
    "version": 3
   },
   "file_extension": ".py",
   "mimetype": "text/x-python",
   "name": "python",
   "nbconvert_exporter": "python",
   "pygments_lexer": "ipython3",
   "version": "3.8.10"
  }
 },
 "nbformat": 4,
 "nbformat_minor": 4
}
