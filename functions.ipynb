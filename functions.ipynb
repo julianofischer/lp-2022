{
 "cells": [
  {
   "cell_type": "markdown",
   "metadata": {},
   "source": [
    "# Funções"
   ]
  },
  {
   "cell_type": "code",
   "execution_count": 1,
   "metadata": {},
   "outputs": [],
   "source": [
    "def multiplica(num1, num2):\n",
    "    return num1 * num2\n",
    "    "
   ]
  },
  {
   "cell_type": "code",
   "execution_count": 2,
   "metadata": {},
   "outputs": [
    {
     "data": {
      "text/plain": [
       "6"
      ]
     },
     "execution_count": 2,
     "metadata": {},
     "output_type": "execute_result"
    }
   ],
   "source": [
    "multiplica(2,3)"
   ]
  },
  {
   "cell_type": "code",
   "execution_count": 3,
   "metadata": {},
   "outputs": [],
   "source": [
    "def teste():\n",
    "    print('Imprime alguma coisa')"
   ]
  },
  {
   "cell_type": "code",
   "execution_count": 4,
   "metadata": {},
   "outputs": [
    {
     "name": "stdout",
     "output_type": "stream",
     "text": [
      "Imprime alguma coisa\n"
     ]
    }
   ],
   "source": [
    "teste()"
   ]
  },
  {
   "cell_type": "code",
   "execution_count": 5,
   "metadata": {},
   "outputs": [
    {
     "name": "stdout",
     "output_type": "stream",
     "text": [
      "Imprime alguma coisa\n"
     ]
    }
   ],
   "source": [
    "s = teste()"
   ]
  },
  {
   "cell_type": "code",
   "execution_count": 7,
   "metadata": {},
   "outputs": [
    {
     "name": "stdout",
     "output_type": "stream",
     "text": [
      "None\n"
     ]
    }
   ],
   "source": [
    "print(s)"
   ]
  },
  {
   "cell_type": "code",
   "execution_count": 18,
   "metadata": {},
   "outputs": [],
   "source": [
    "# default argument values\n",
    "def multiplica(num1=7, num2=7):\n",
    "    return num1*num2"
   ]
  },
  {
   "cell_type": "code",
   "execution_count": 12,
   "metadata": {},
   "outputs": [
    {
     "data": {
      "text/plain": [
       "6"
      ]
     },
     "execution_count": 12,
     "metadata": {},
     "output_type": "execute_result"
    }
   ],
   "source": [
    "multiplica(2,3)"
   ]
  },
  {
   "cell_type": "code",
   "execution_count": 13,
   "metadata": {},
   "outputs": [
    {
     "data": {
      "text/plain": [
       "14"
      ]
     },
     "execution_count": 13,
     "metadata": {},
     "output_type": "execute_result"
    }
   ],
   "source": [
    "multiplica(2)"
   ]
  },
  {
   "cell_type": "code",
   "execution_count": 17,
   "metadata": {},
   "outputs": [
    {
     "data": {
      "text/plain": [
       "6"
      ]
     },
     "execution_count": 17,
     "metadata": {},
     "output_type": "execute_result"
    }
   ],
   "source": [
    "multiplica(2,3)"
   ]
  },
  {
   "cell_type": "code",
   "execution_count": 19,
   "metadata": {},
   "outputs": [],
   "source": [
    "def imprime(mensagem=None):\n",
    "    if mensagem is None:\n",
    "        print(\"Nenhuma mensagem foi passada\")\n",
    "    else:\n",
    "        print(mensagem)"
   ]
  },
  {
   "cell_type": "code",
   "execution_count": 20,
   "metadata": {},
   "outputs": [
    {
     "name": "stdout",
     "output_type": "stream",
     "text": [
      "Nenhuma mensagem foi passada\n"
     ]
    }
   ],
   "source": [
    "imprime()"
   ]
  },
  {
   "cell_type": "code",
   "execution_count": 21,
   "metadata": {},
   "outputs": [
    {
     "name": "stdout",
     "output_type": "stream",
     "text": [
      "mensagem\n"
     ]
    }
   ],
   "source": [
    "imprime('mensagem')"
   ]
  },
  {
   "cell_type": "markdown",
   "metadata": {},
   "source": [
    "# Keyword arguments"
   ]
  },
  {
   "cell_type": "code",
   "execution_count": 23,
   "metadata": {},
   "outputs": [
    {
     "data": {
      "text/plain": [
       "200"
      ]
     },
     "execution_count": 23,
     "metadata": {},
     "output_type": "execute_result"
    }
   ],
   "source": [
    "multiplica(num2=10, num1=20)"
   ]
  },
  {
   "cell_type": "code",
   "execution_count": 28,
   "metadata": {},
   "outputs": [],
   "source": [
    "def msg(m='', default=\"Nenhuma mensagem passada.\"):\n",
    "    if m is None:\n",
    "        print(default)\n",
    "    else:\n",
    "        print(m)"
   ]
  },
  {
   "cell_type": "code",
   "execution_count": 29,
   "metadata": {},
   "outputs": [
    {
     "name": "stdout",
     "output_type": "stream",
     "text": [
      "Nenhuma mensagem passada.\n"
     ]
    }
   ],
   "source": [
    "msg(None)"
   ]
  },
  {
   "cell_type": "code",
   "execution_count": 31,
   "metadata": {},
   "outputs": [
    {
     "name": "stdout",
     "output_type": "stream",
     "text": [
      "Uma nova mensagem default\n"
     ]
    }
   ],
   "source": [
    "msg(default=\"Uma nova mensagem default\", m=None)"
   ]
  },
  {
   "cell_type": "code",
   "execution_count": 36,
   "metadata": {},
   "outputs": [],
   "source": [
    "def msg_2(m, default=\"Nenhuma mensagem passada.\", num=1):\n",
    "    if m is None:\n",
    "        print(default)\n",
    "        print(num)\n",
    "    else:\n",
    "        print(m)\n",
    "        print(num)\n",
    "        "
   ]
  },
  {
   "cell_type": "code",
   "execution_count": 38,
   "metadata": {},
   "outputs": [
    {
     "name": "stdout",
     "output_type": "stream",
     "text": [
      "A mensagem\n",
      "3\n"
     ]
    }
   ],
   "source": [
    "msg_2(\"A mensagem\", num=3)"
   ]
  },
  {
   "cell_type": "code",
   "execution_count": 39,
   "metadata": {},
   "outputs": [],
   "source": [
    "def fun(f1, f2, f3):\n",
    "    print(f'Fulano tem 3 filhos: {f1}, {f2}, {f3}')"
   ]
  },
  {
   "cell_type": "code",
   "execution_count": 41,
   "metadata": {},
   "outputs": [
    {
     "name": "stdout",
     "output_type": "stream",
     "text": [
      "Fulano tem 3 filhos: João, Maria, José\n"
     ]
    }
   ],
   "source": [
    "# posicional\n",
    "fun('João', 'Maria', 'José')"
   ]
  },
  {
   "cell_type": "code",
   "execution_count": 42,
   "metadata": {},
   "outputs": [],
   "source": [
    "def fun(f1, f2, f3='Fulano'):\n",
    "    print(f'Fulano tem 3 filhos: {f1}, {f2}, {f3}')"
   ]
  },
  {
   "cell_type": "code",
   "execution_count": 43,
   "metadata": {},
   "outputs": [
    {
     "name": "stdout",
     "output_type": "stream",
     "text": [
      "Fulano tem 3 filhos: João, Maria, Fulano\n"
     ]
    }
   ],
   "source": [
    "fun('João', 'Maria')"
   ]
  },
  {
   "cell_type": "code",
   "execution_count": 44,
   "metadata": {},
   "outputs": [],
   "source": [
    "def fun(f1, f2='Beltrano', f3='Fulano'):\n",
    "    print(f'Fulano tem 3 filhos: {f1}, {f2}, {f3}')"
   ]
  },
  {
   "cell_type": "code",
   "execution_count": 45,
   "metadata": {},
   "outputs": [
    {
     "name": "stdout",
     "output_type": "stream",
     "text": [
      "Fulano tem 3 filhos: João, Beltrano, Fulano\n"
     ]
    }
   ],
   "source": [
    "fun('João')"
   ]
  },
  {
   "cell_type": "code",
   "execution_count": 46,
   "metadata": {},
   "outputs": [
    {
     "name": "stdout",
     "output_type": "stream",
     "text": [
      "Fulano tem 3 filhos: João, Beltrano, Maria\n"
     ]
    }
   ],
   "source": [
    "fun('João', f3=\"Maria\")"
   ]
  },
  {
   "cell_type": "code",
   "execution_count": 50,
   "metadata": {},
   "outputs": [],
   "source": [
    "def fun(f1, f2='Beltrano', f3='Fulano', *args):\n",
    "    print(f'Fulano tem 3 filhos: {f1}, {f2}, {f3}')\n",
    "    print(f'Nem sei quem são estes intrusos {args}')"
   ]
  },
  {
   "cell_type": "code",
   "execution_count": 51,
   "metadata": {},
   "outputs": [
    {
     "name": "stdout",
     "output_type": "stream",
     "text": [
      "Fulano tem 3 filhos: João, Maria, José\n",
      "Nem sei quem são estes intrusos ()\n"
     ]
    }
   ],
   "source": [
    "fun('João', 'Maria', 'José')"
   ]
  },
  {
   "cell_type": "code",
   "execution_count": 52,
   "metadata": {},
   "outputs": [
    {
     "name": "stdout",
     "output_type": "stream",
     "text": [
      "Fulano tem 3 filhos: João, Maria, José\n",
      "Nem sei quem são estes intrusos ('Mário', 'André')\n"
     ]
    }
   ],
   "source": [
    "fun('João', 'Maria', 'José', 'Mário', 'André')"
   ]
  },
  {
   "cell_type": "markdown",
   "metadata": {},
   "source": [
    "# keyword only"
   ]
  },
  {
   "cell_type": "code",
   "execution_count": 54,
   "metadata": {},
   "outputs": [],
   "source": [
    "def fun(*, f1, f2, f3):\n",
    "    print(f'Fulano tem 3 filhos: {f1}, {f2}, {f3}')"
   ]
  },
  {
   "cell_type": "code",
   "execution_count": 56,
   "metadata": {},
   "outputs": [
    {
     "name": "stdout",
     "output_type": "stream",
     "text": [
      "Fulano tem 3 filhos: a, b, c\n"
     ]
    }
   ],
   "source": [
    "fun(f1='a',f2='b',f3='c')"
   ]
  },
  {
   "cell_type": "code",
   "execution_count": 62,
   "metadata": {},
   "outputs": [],
   "source": [
    "def fun(f1, f2='Beltrano', f3='Fulano', **kwargs):\n",
    "    print(f'Fulano tem 3 filhos: {f1}, {f2}, {f3}')\n",
    "    print(f'Nem sei quem são estes intrusos {kwargs}')"
   ]
  },
  {
   "cell_type": "code",
   "execution_count": 65,
   "metadata": {},
   "outputs": [
    {
     "name": "stdout",
     "output_type": "stream",
     "text": [
      "Fulano tem 3 filhos: João, Beltrano, Maria\n",
      "Nem sei quem são estes intrusos {'outro': 'João', 'fidovizin': 'Vizin', 'unknow': 'desconhecido'}\n"
     ]
    }
   ],
   "source": [
    "fun('João', f3='Maria', outro='João', fidovizin='Vizin', unknow='desconhecido')"
   ]
  },
  {
   "cell_type": "code",
   "execution_count": 67,
   "metadata": {},
   "outputs": [],
   "source": [
    "def soma(*args):\n",
    "    return sum(args)"
   ]
  },
  {
   "cell_type": "code",
   "execution_count": 68,
   "metadata": {},
   "outputs": [
    {
     "data": {
      "text/plain": [
       "15"
      ]
     },
     "execution_count": 68,
     "metadata": {},
     "output_type": "execute_result"
    }
   ],
   "source": [
    "soma(1,2,3,4,5)"
   ]
  },
  {
   "cell_type": "code",
   "execution_count": 69,
   "metadata": {},
   "outputs": [
    {
     "data": {
      "text/plain": [
       "1"
      ]
     },
     "execution_count": 69,
     "metadata": {},
     "output_type": "execute_result"
    }
   ],
   "source": [
    "soma(1)"
   ]
  },
  {
   "cell_type": "code",
   "execution_count": 70,
   "metadata": {},
   "outputs": [
    {
     "data": {
      "text/plain": [
       "0"
      ]
     },
     "execution_count": 70,
     "metadata": {},
     "output_type": "execute_result"
    }
   ],
   "source": [
    "soma(0)"
   ]
  },
  {
   "cell_type": "code",
   "execution_count": 71,
   "metadata": {},
   "outputs": [
    {
     "data": {
      "text/plain": [
       "0"
      ]
     },
     "execution_count": 71,
     "metadata": {},
     "output_type": "execute_result"
    }
   ],
   "source": [
    "soma()"
   ]
  },
  {
   "cell_type": "code",
   "execution_count": 72,
   "metadata": {},
   "outputs": [
    {
     "name": "stdout",
     "output_type": "stream",
     "text": [
      "Fulano tem 3 filhos: João, Beltrano, Maria\n",
      "Nem sei quem são estes intrusos {'outro': 'João', 'fidovizin': 'Vizin', 'unknow': 'desconhecido'}\n"
     ]
    }
   ],
   "source": [
    "fun('João', f3='Maria', outro='João', fidovizin='Vizin', unknow='desconhecido')"
   ]
  },
  {
   "cell_type": "code",
   "execution_count": 73,
   "metadata": {},
   "outputs": [],
   "source": [
    "d = {'outro': 'João', 'fidovizin': 'Vizin', 'unknow': 'desconhecido'}"
   ]
  },
  {
   "cell_type": "code",
   "execution_count": 74,
   "metadata": {},
   "outputs": [
    {
     "data": {
      "text/plain": [
       "{'outro': 'João', 'fidovizin': 'Vizin', 'unknow': 'desconhecido'}"
      ]
     },
     "execution_count": 74,
     "metadata": {},
     "output_type": "execute_result"
    }
   ],
   "source": [
    "d"
   ]
  },
  {
   "cell_type": "code",
   "execution_count": 77,
   "metadata": {},
   "outputs": [
    {
     "name": "stdout",
     "output_type": "stream",
     "text": [
      "Fulano tem 3 filhos: João, Beltrano, Maria\n",
      "Nem sei quem são estes intrusos {'outro': 'João', 'fidovizin': 'Vizin', 'unknow': 'desconhecido'}\n"
     ]
    }
   ],
   "source": [
    "fun('João', f3='Maria', **d)"
   ]
  },
  {
   "cell_type": "code",
   "execution_count": 80,
   "metadata": {},
   "outputs": [],
   "source": [
    "def fun(f1, *args, f2='Beltrano', f3='Fulano', **kwargs):\n",
    "    print(f'Fulano tem 3 filhos: {f1}, {f2}, {f3}')\n",
    "    print(f'Nem sei quem são estes intrusos {args}')\n",
    "    print(f'Nem sei quem são estes intrusos {kwargs}')"
   ]
  },
  {
   "cell_type": "code",
   "execution_count": 82,
   "metadata": {},
   "outputs": [
    {
     "name": "stdout",
     "output_type": "stream",
     "text": [
      "Fulano tem 3 filhos: João, Beltrano, Maria\n",
      "Nem sei quem são estes intrusos ('Juliano', 'Guilherme', 'Gustavo')\n",
      "Nem sei quem são estes intrusos {'a': 'a', 'b': 'nome b', 'c': 'nome c'}\n"
     ]
    }
   ],
   "source": [
    "fun('João', 'Juliano', 'Guilherme', 'Gustavo', f3='Maria', a='a', b='nome b', c='nome c' )"
   ]
  },
  {
   "cell_type": "code",
   "execution_count": 83,
   "metadata": {},
   "outputs": [
    {
     "name": "stdout",
     "output_type": "stream",
     "text": [
      "Fulano tem 3 filhos: João, Beltrano, Maria\n",
      "Nem sei quem são estes intrusos ('Juliano', 'Guilherme', 'Gustavo')\n",
      "Nem sei quem são estes intrusos {'outro': 'João', 'fidovizin': 'Vizin', 'unknow': 'desconhecido'}\n"
     ]
    }
   ],
   "source": [
    "t = ('Juliano', 'Guilherme', 'Gustavo')\n",
    "fun('João', *t, f3='Maria', **d)"
   ]
  },
  {
   "cell_type": "code",
   "execution_count": 84,
   "metadata": {},
   "outputs": [],
   "source": [
    "# generator expressions\n",
    "# annotations\n",
    "# oop\n",
    "# virtualven\n",
    "# requests, os, outras libs"
   ]
  },
  {
   "cell_type": "code",
   "execution_count": null,
   "metadata": {},
   "outputs": [],
   "source": []
  }
 ],
 "metadata": {
  "kernelspec": {
   "display_name": "Python 3",
   "language": "python",
   "name": "python3"
  },
  "language_info": {
   "codemirror_mode": {
    "name": "ipython",
    "version": 3
   },
   "file_extension": ".py",
   "mimetype": "text/x-python",
   "name": "python",
   "nbconvert_exporter": "python",
   "pygments_lexer": "ipython3",
   "version": "3.8.10"
  }
 },
 "nbformat": 4,
 "nbformat_minor": 4
}
